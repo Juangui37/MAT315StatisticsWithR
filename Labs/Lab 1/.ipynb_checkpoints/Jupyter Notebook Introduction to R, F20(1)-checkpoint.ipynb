{
 "cells": [
  {
   "cell_type": "markdown",
   "metadata": {},
   "source": [
    "# Notebook 1: Introduction to R"
   ]
  },
  {
   "cell_type": "markdown",
   "metadata": {},
   "source": [
    "\n",
    "\n",
    "*R* is a programming language and environment for statistical analysis and graphics. *R* includes (see r-project.org/about.html): \n",
    "   - an effective data handling and storage facility,\n",
    "   - a suite of operators for calculations on arrays, in particular matrices,\n",
    "   - a large, coherent, integrated collection of intermediate tools for data analysis,\n",
    "   - graphical facilities for data analysis and display either on-screen or on hardcopy, and\n",
    "   - a well-developed, simple and effective programming language which includes conditionals, loops, user-defined recursive\n",
    "        functions and input and output facilities."
   ]
  },
  {
   "cell_type": "markdown",
   "metadata": {},
   "source": [
    "When you are running Jupyter Notebooks in the lab, you will need to set the Kernal to R. Here's how:\n",
    "Kernal>Change Kernal>R.\n",
    "\n",
    "A Jupyter Notebook has two types of cells that you will encounter. Markdown Cells, cells with text (instructions, comments, etc.), and  Code cells (these contain R code that you can run by clicking the Run Cell symbol, >| just below Cell on the tool bar)."
   ]
  },
  {
   "cell_type": "markdown",
   "metadata": {},
   "source": [
    "## Quantitative Data\n",
    "**In Notebook 1A, we will cover:**\n",
    "- Arithmetic operations\n",
    "- Built-in *R* functions\n",
    "- Entering a quantitative data vector \n",
    "- Functions of the data vector\n",
    "- Editing data values\n",
    "- Creating a stem-and-leaf plot\n",
    "- Creating a box-and-whisker plot\n",
    "\n",
    "In a Code Cell (shaded in green below), any line that begins #, will be ignored by R and not processed as R code. So, when you click on the code cell below and enter your name, I will be able to read your name. If you click the \"run cell\" arrow (>|), you will just move to the next cell.  "
   ]
  },
  {
   "cell_type": "code",
   "execution_count": 1,
   "metadata": {},
   "outputs": [],
   "source": [
    "#0. Enter your name after the # below. \n",
    "# \n",
    "#Try clicking \"run cell\" (>|)."
   ]
  },
  {
   "cell_type": "markdown",
   "metadata": {},
   "source": [
    "### Operators\n",
    "\n",
    "You can combine numeric data values using operators such as addition, subtraction, division, and so forth. Below are standard arithmetic operators.\n",
    "\n",
    "\n",
    "\n",
    "| Operator | Operation | Example |\n",
    "|:---------------:|:-----------------|:--------------|\n",
    "|   \\+     | Addition    | 8 + 5   |\n",
    "|   \\-     | Subtraction | 7 - 4   |\n",
    "| \\* | Multiplication | 100\\*3.8|\n",
    "| / | Division | 250/4 |\n",
    "|^|Exponents|2^4|\n",
    "\n"
   ]
  },
  {
   "cell_type": "code",
   "execution_count": 2,
   "metadata": {},
   "outputs": [
    {
     "data": {
      "text/html": [
       "13"
      ],
      "text/latex": [
       "13"
      ],
      "text/markdown": [
       "13"
      ],
      "text/plain": [
       "[1] 13"
      ]
     },
     "metadata": {},
     "output_type": "display_data"
    },
    {
     "data": {
      "text/html": [
       "3"
      ],
      "text/latex": [
       "3"
      ],
      "text/markdown": [
       "3"
      ],
      "text/plain": [
       "[1] 3"
      ]
     },
     "metadata": {},
     "output_type": "display_data"
    },
    {
     "data": {
      "text/html": [
       "380"
      ],
      "text/latex": [
       "380"
      ],
      "text/markdown": [
       "380"
      ],
      "text/plain": [
       "[1] 380"
      ]
     },
     "metadata": {},
     "output_type": "display_data"
    },
    {
     "data": {
      "text/html": [
       "62.5"
      ],
      "text/latex": [
       "62.5"
      ],
      "text/markdown": [
       "62.5"
      ],
      "text/plain": [
       "[1] 62.5"
      ]
     },
     "metadata": {},
     "output_type": "display_data"
    },
    {
     "data": {
      "text/html": [
       "16"
      ],
      "text/latex": [
       "16"
      ],
      "text/markdown": [
       "16"
      ],
      "text/plain": [
       "[1] 16"
      ]
     },
     "metadata": {},
     "output_type": "display_data"
    }
   ],
   "source": [
    "# 1. Try the following calculations. \n",
    "#Notice that  you can choose to use or not use spaces between numbers and operators.\n",
    "#To run the commands in this cell, click on the \"run cell\" icon (>|) in the toolbar above.\n",
    "#Notice that comments that follow the pound sign are not included in the run commands. \n",
    "8 + 5\n",
    "7-4\n",
    "100*3.8\n",
    "250/4\n",
    "2^4"
   ]
  },
  {
   "cell_type": "markdown",
   "metadata": {},
   "source": [
    "The next table contains some commonly used *R* mathematical functions. Notice that functions take arguments. \n",
    "\n",
    "|Function | Operation | Example |\n",
    "|:---------:|:----------|:---------|\n",
    "|cos() | Cosine | $cos(\\pi)$, enter as cos(pi)|\n",
    "|sqrt()|Square root| $\\sqrt16$, enter as sqrt(16)|\n",
    "|log()|Natural logarithm|log(10)|\n",
    "|exp(x)| Exponential function |$e$, enter as exp(1)|\n",
    "|sum()|Sum (total)|sum(3, 2, 5)|\n"
   ]
  },
  {
   "cell_type": "code",
   "execution_count": 3,
   "metadata": {},
   "outputs": [
    {
     "data": {
      "text/html": [
       "-1"
      ],
      "text/latex": [
       "-1"
      ],
      "text/markdown": [
       "-1"
      ],
      "text/plain": [
       "[1] -1"
      ]
     },
     "metadata": {},
     "output_type": "display_data"
    },
    {
     "data": {
      "text/html": [
       "4"
      ],
      "text/latex": [
       "4"
      ],
      "text/markdown": [
       "4"
      ],
      "text/plain": [
       "[1] 4"
      ]
     },
     "metadata": {},
     "output_type": "display_data"
    },
    {
     "data": {
      "text/html": [
       "2.30258509299405"
      ],
      "text/latex": [
       "2.30258509299405"
      ],
      "text/markdown": [
       "2.30258509299405"
      ],
      "text/plain": [
       "[1] 2.302585"
      ]
     },
     "metadata": {},
     "output_type": "display_data"
    },
    {
     "data": {
      "text/html": [
       "2.71828182845905"
      ],
      "text/latex": [
       "2.71828182845905"
      ],
      "text/markdown": [
       "2.71828182845905"
      ],
      "text/plain": [
       "[1] 2.718282"
      ]
     },
     "metadata": {},
     "output_type": "display_data"
    },
    {
     "data": {
      "text/html": [
       "10"
      ],
      "text/latex": [
       "10"
      ],
      "text/markdown": [
       "10"
      ],
      "text/plain": [
       "[1] 10"
      ]
     },
     "metadata": {},
     "output_type": "display_data"
    }
   ],
   "source": [
    "#2. Calculate the answers to the examples in the cell above. \n",
    "#We start you off with the first one. \n",
    "#Enter the remaining 4 examples and then click the \"run cell\" icon.\n",
    "#Did you get the results you expected? \n",
    "cos(pi)\n",
    "sqrt(16)\n",
    "log(10)\n",
    "exp(1)\n",
    "sum(3,2,5)\n"
   ]
  },
  {
   "cell_type": "markdown",
   "metadata": {},
   "source": [
    "### Entering and Analyzing Quantitative Data\n",
    "\n",
    "When entering quantitative data on a single variable, enter the data as a vector and give the variable a name that you can remember. For example, suppose you want to store the data 5, 7, 3, 10, 6, 1 under the variable name TestData: \n",
    "- To form the vector: c(list data values separated by commas). \n",
    "- To assign the vector a name: <- (less-than symbol followed by dash) stores the data in the variable named to the left.  \n",
    "\n",
    "To print the vector, simply type its name. **Warning:** *R* is case sensitive so you **must pay attention to capital and lowercase letters**. \n"
   ]
  },
  {
   "cell_type": "code",
   "execution_count": 4,
   "metadata": {},
   "outputs": [
    {
     "data": {
      "text/html": [
       "<ol class=list-inline>\n",
       "\t<li>5</li>\n",
       "\t<li>7</li>\n",
       "\t<li>3</li>\n",
       "\t<li>10</li>\n",
       "\t<li>6</li>\n",
       "\t<li>1</li>\n",
       "</ol>\n"
      ],
      "text/latex": [
       "\\begin{enumerate*}\n",
       "\\item 5\n",
       "\\item 7\n",
       "\\item 3\n",
       "\\item 10\n",
       "\\item 6\n",
       "\\item 1\n",
       "\\end{enumerate*}\n"
      ],
      "text/markdown": [
       "1. 5\n",
       "2. 7\n",
       "3. 3\n",
       "4. 10\n",
       "5. 6\n",
       "6. 1\n",
       "\n",
       "\n"
      ],
      "text/plain": [
       "[1]  5  7  3 10  6  1"
      ]
     },
     "metadata": {},
     "output_type": "display_data"
    }
   ],
   "source": [
    "#3.a. Entering and printing TestData.\n",
    "TestData <- c(5,7,3,10,6,1)\n",
    "TestData"
   ]
  },
  {
   "cell_type": "code",
   "execution_count": 5,
   "metadata": {},
   "outputs": [
    {
     "data": {
      "text/html": [
       "<ol class=list-inline>\n",
       "\t<li>1</li>\n",
       "\t<li>2</li>\n",
       "\t<li>3</li>\n",
       "\t<li>4</li>\n",
       "\t<li>17</li>\n",
       "\t<li>55</li>\n",
       "\t<li>99</li>\n",
       "</ol>\n"
      ],
      "text/latex": [
       "\\begin{enumerate*}\n",
       "\\item 1\n",
       "\\item 2\n",
       "\\item 3\n",
       "\\item 4\n",
       "\\item 17\n",
       "\\item 55\n",
       "\\item 99\n",
       "\\end{enumerate*}\n"
      ],
      "text/markdown": [
       "1. 1\n",
       "2. 2\n",
       "3. 3\n",
       "4. 4\n",
       "5. 17\n",
       "6. 55\n",
       "7. 99\n",
       "\n",
       "\n"
      ],
      "text/plain": [
       "[1]  1  2  3  4 17 55 99"
      ]
     },
     "metadata": {},
     "output_type": "display_data"
    }
   ],
   "source": [
    "#3.b. Create a quantitative data set of your own. Name it TestData2. Then print it.\n",
    "TestData2 <- c(1,2,3,4,17,55,99)\n",
    "TestData2\n"
   ]
  },
  {
   "cell_type": "markdown",
   "metadata": {},
   "source": [
    "A function of data values is called a statistic. Here are some examples of various functions of data that can be computed.\n",
    "\n",
    "|Function|Operation|Example|\n",
    "|:--------|:---------|:--------|\n",
    "|mean()|Mean(average)|mean(TestData)|\n",
    "|var()|Variance|var(c(3, 2, 5))|\n",
    "|sd()|Standard deviation|sd(TestData)|\n",
    "|median()|Median (middle number of ordered data set)|median(c(3, 2, 5))|\n",
    "|summary()|Five-number summary (min, Q1, med, Q3, max)|summary(TestData)|\n",
    "\n",
    "Next, you will calculate some statistics for TestData and for the data set {3, 2, 5}.\n",
    "**Warning:** If you want to stop along the way, click File and \"Save and Checkpoint.\" However, when you return, you will have to rerun the cell above to create TestData before you can calculate the values in the examples as requested below. \n",
    "**Remember: When you return to work on a notebook, you will need to run cells that created or stored data in variables before you can apply commands to those variables.**"
   ]
  },
  {
   "cell_type": "code",
   "execution_count": 6,
   "metadata": {},
   "outputs": [
    {
     "data": {
      "text/html": [
       "5.33333333333333"
      ],
      "text/latex": [
       "5.33333333333333"
      ],
      "text/markdown": [
       "5.33333333333333"
      ],
      "text/plain": [
       "[1] 5.333333"
      ]
     },
     "metadata": {},
     "output_type": "display_data"
    },
    {
     "data": {
      "text/html": [
       "9.86666666666667"
      ],
      "text/latex": [
       "9.86666666666667"
      ],
      "text/markdown": [
       "9.86666666666667"
      ],
      "text/plain": [
       "[1] 9.866667"
      ]
     },
     "metadata": {},
     "output_type": "display_data"
    },
    {
     "data": {
      "text/html": [
       "3.14112506383727"
      ],
      "text/latex": [
       "3.14112506383727"
      ],
      "text/markdown": [
       "3.14112506383727"
      ],
      "text/plain": [
       "[1] 3.141125"
      ]
     },
     "metadata": {},
     "output_type": "display_data"
    },
    {
     "data": {
      "text/html": [
       "5.5"
      ],
      "text/latex": [
       "5.5"
      ],
      "text/markdown": [
       "5.5"
      ],
      "text/plain": [
       "[1] 5.5"
      ]
     },
     "metadata": {},
     "output_type": "display_data"
    },
    {
     "data": {
      "text/plain": [
       "   Min. 1st Qu.  Median    Mean 3rd Qu.    Max. \n",
       "  1.000   3.500   5.500   5.333   6.750  10.000 "
      ]
     },
     "metadata": {},
     "output_type": "display_data"
    }
   ],
   "source": [
    "#4. Calculate the answers to the examples in the cell above.\n",
    "#We start you off with the first one.\n",
    "#Enter the remaining 4 examples and then click the \"run cell\" icon.\n",
    "mean(TestData)\n",
    "var(TestData)\n",
    "sd(TestData)\n",
    "median(TestData)\n",
    "summary(TestData)\n",
    "\n",
    "\n",
    "\n"
   ]
  },
  {
   "cell_type": "markdown",
   "metadata": {},
   "source": [
    "#### Analyzing Class Data: Estimates of Outside Temperature\n",
    "\n",
    "One question on the class survey asked students to estimate the outside temperature. Student responses to this survey question fall semester 2017 are given below:\n",
    "\n",
    "75 68 80 68 70 70 69 72 75 65 70 63 70 26 68 71 71 70 70 67\n"
   ]
  },
  {
   "cell_type": "code",
   "execution_count": 7,
   "metadata": {},
   "outputs": [
    {
     "data": {
      "text/html": [
       "<ol class=list-inline>\n",
       "\t<li>75</li>\n",
       "\t<li>68</li>\n",
       "\t<li>80</li>\n",
       "\t<li>68</li>\n",
       "\t<li>70</li>\n",
       "\t<li>70</li>\n",
       "\t<li>69</li>\n",
       "\t<li>72</li>\n",
       "\t<li>75</li>\n",
       "\t<li>65</li>\n",
       "\t<li>70</li>\n",
       "\t<li>63</li>\n",
       "\t<li>70</li>\n",
       "\t<li>26</li>\n",
       "\t<li>68</li>\n",
       "\t<li>71</li>\n",
       "\t<li>71</li>\n",
       "\t<li>70</li>\n",
       "\t<li>70</li>\n",
       "\t<li>67</li>\n",
       "</ol>\n"
      ],
      "text/latex": [
       "\\begin{enumerate*}\n",
       "\\item 75\n",
       "\\item 68\n",
       "\\item 80\n",
       "\\item 68\n",
       "\\item 70\n",
       "\\item 70\n",
       "\\item 69\n",
       "\\item 72\n",
       "\\item 75\n",
       "\\item 65\n",
       "\\item 70\n",
       "\\item 63\n",
       "\\item 70\n",
       "\\item 26\n",
       "\\item 68\n",
       "\\item 71\n",
       "\\item 71\n",
       "\\item 70\n",
       "\\item 70\n",
       "\\item 67\n",
       "\\end{enumerate*}\n"
      ],
      "text/markdown": [
       "1. 75\n",
       "2. 68\n",
       "3. 80\n",
       "4. 68\n",
       "5. 70\n",
       "6. 70\n",
       "7. 69\n",
       "8. 72\n",
       "9. 75\n",
       "10. 65\n",
       "11. 70\n",
       "12. 63\n",
       "13. 70\n",
       "14. 26\n",
       "15. 68\n",
       "16. 71\n",
       "17. 71\n",
       "18. 70\n",
       "19. 70\n",
       "20. 67\n",
       "\n",
       "\n"
      ],
      "text/plain": [
       " [1] 75 68 80 68 70 70 69 72 75 65 70 63 70 26 68 71 71 70 70 67"
      ]
     },
     "metadata": {},
     "output_type": "display_data"
    },
    {
     "data": {
      "text/html": [
       "67.9"
      ],
      "text/latex": [
       "67.9"
      ],
      "text/markdown": [
       "67.9"
      ],
      "text/plain": [
       "[1] 67.9"
      ]
     },
     "metadata": {},
     "output_type": "display_data"
    },
    {
     "data": {
      "text/plain": [
       "   Min. 1st Qu.  Median    Mean 3rd Qu.    Max. \n",
       "   26.0    68.0    70.0    67.9    71.0    80.0 "
      ]
     },
     "metadata": {},
     "output_type": "display_data"
    }
   ],
   "source": [
    "#5. Create a vector of the estimated temperature data above. \n",
    "#Store the data vector in variable named temp.\n",
    "#Print the vector and check for errors. \n",
    "\n",
    "temp <- c(75,68,80,68,70,70,69,72,75,65,70,63,70,26,68,71,71,70,70,67)\n",
    "temp\n",
    "\n",
    "\n",
    "#What was the mean of the temperature estimates?\n",
    "\n",
    "mean(temp)\n",
    "\n",
    "#Do you think the mean gives a good indication of the center or location of these data values? If not, does it appear to \n",
    "#be too high or too low given the temperature data?\n",
    "#\n",
    "summary(temp)"
   ]
  },
  {
   "cell_type": "code",
   "execution_count": 8,
   "metadata": {},
   "outputs": [
    {
     "name": "stdout",
     "output_type": "stream",
     "text": [
      "\n",
      "  The decimal point is 1 digit(s) to the right of the |\n",
      "\n",
      "  2 | 6\n",
      "  4 | \n",
      "  6 | 357888900000011255\n",
      "  8 | 0\n",
      "\n"
     ]
    }
   ],
   "source": [
    "#6. Next, make a stem-and-leaf plot of the temperature data. \n",
    "stem(temp)"
   ]
  },
  {
   "cell_type": "markdown",
   "metadata": {},
   "source": [
    "Notice that if you ran the code in the cell above, you would have encountered an error message. Let's try again. Keep in mind that R is case sensitive. R sees \"Temp\" and \"temp\" as different."
   ]
  },
  {
   "cell_type": "code",
   "execution_count": 9,
   "metadata": {},
   "outputs": [
    {
     "name": "stdout",
     "output_type": "stream",
     "text": [
      "\n",
      "  The decimal point is 1 digit(s) to the right of the |\n",
      "\n",
      "  2 | 6\n",
      "  4 | \n",
      "  6 | 357888900000011255\n",
      "  8 | 0\n",
      "\n"
     ]
    }
   ],
   "source": [
    "#6. Correct the code from the Code cell above to make a stem-and-leaf plot for the temperature data. \n",
    "stem(temp)"
   ]
  },
  {
   "cell_type": "markdown",
   "metadata": {},
   "source": [
    "Notice that the stems in the stemplot are in increments of 20. So, data values in the 60s and 70s appear on the same stem. To change the increment from 20 to 10, you will need to stretch the stem by a factor of 2. That can be done using \"scale = 2\" as follows:\n",
    "\n",
    "stem(temp, scale = 2)\n",
    "\n",
    "(If instead, you use \"scale = 0.5\",  you would double the increment and cut the stem length in half.)"
   ]
  },
  {
   "cell_type": "code",
   "execution_count": 10,
   "metadata": {},
   "outputs": [
    {
     "name": "stdout",
     "output_type": "stream",
     "text": [
      "\n",
      "  The decimal point is 1 digit(s) to the right of the |\n",
      "\n",
      "  2 | 6\n",
      "  3 | \n",
      "  4 | \n",
      "  5 | \n",
      "  6 | 3578889\n",
      "  7 | 00000011255\n",
      "  8 | 0\n",
      "\n"
     ]
    }
   ],
   "source": [
    "#7. Make a stem-and-leaf plot of the temperature data in which the stem increment is 10.\n",
    "#Do there appear to be any outliers? \n",
    "stem(temp, scale = 2)\n"
   ]
  },
  {
   "cell_type": "markdown",
   "metadata": {},
   "source": [
    "Based on your stemplot in 7, you should see a low outlier. One student reported the estimated temperature in degrees Celsius instead of in degrees Fahrenheit. The following formula can be used to change Celsius temperatures into Fahrenheit temperatures: $F = \\frac{9}{5}C+32$. You will need to change this value in the Temp data vector. \n"
   ]
  },
  {
   "cell_type": "code",
   "execution_count": 11,
   "metadata": {},
   "outputs": [
    {
     "data": {
      "text/html": [
       "78.8"
      ],
      "text/latex": [
       "78.8"
      ],
      "text/markdown": [
       "78.8"
      ],
      "text/plain": [
       "[1] 78.8"
      ]
     },
     "metadata": {},
     "output_type": "display_data"
    }
   ],
   "source": [
    "#8.Use the arithmetic operators from the beginning of this notebook to convert the value of the low outlier \n",
    "#from degrees Celsius to degrees Fahrenheit. (Next, you will learn how to edit numbers in a data set.)\n",
    "\n",
    "9/5*26+32\n"
   ]
  },
  {
   "cell_type": "code",
   "execution_count": 12,
   "metadata": {},
   "outputs": [
    {
     "data": {
      "text/html": [
       "<ol class=list-inline>\n",
       "\t<li>5</li>\n",
       "\t<li>7</li>\n",
       "\t<li>3</li>\n",
       "\t<li>5</li>\n",
       "\t<li>6</li>\n",
       "\t<li>1</li>\n",
       "</ol>\n"
      ],
      "text/latex": [
       "\\begin{enumerate*}\n",
       "\\item 5\n",
       "\\item 7\n",
       "\\item 3\n",
       "\\item 5\n",
       "\\item 6\n",
       "\\item 1\n",
       "\\end{enumerate*}\n"
      ],
      "text/markdown": [
       "1. 5\n",
       "2. 7\n",
       "3. 3\n",
       "4. 5\n",
       "5. 6\n",
       "6. 1\n",
       "\n",
       "\n"
      ],
      "text/plain": [
       "[1] 5 7 3 5 6 1"
      ]
     },
     "metadata": {},
     "output_type": "display_data"
    }
   ],
   "source": [
    "#9. You can edit single entires in a data vector. \n",
    "#Go back to the TestData from question 3. Recall: TestData = c(5,7,3,10,6,1)\n",
    "#Suppose you want to change the the 4th value in TestData from 10 to 5. \n",
    "#Run this cell in order to do that. \n",
    "TestData[4] <- 5.\n",
    "#Now, check to make sure the 4rd data value has been changed:\n",
    "TestData"
   ]
  },
  {
   "cell_type": "code",
   "execution_count": 13,
   "metadata": {},
   "outputs": [
    {
     "data": {
      "text/html": [
       "<ol class=list-inline>\n",
       "\t<li>75</li>\n",
       "\t<li>68</li>\n",
       "\t<li>80</li>\n",
       "\t<li>68</li>\n",
       "\t<li>70</li>\n",
       "\t<li>70</li>\n",
       "\t<li>69</li>\n",
       "\t<li>72</li>\n",
       "\t<li>75</li>\n",
       "\t<li>65</li>\n",
       "\t<li>70</li>\n",
       "\t<li>63</li>\n",
       "\t<li>70</li>\n",
       "\t<li>26</li>\n",
       "\t<li>68</li>\n",
       "\t<li>71</li>\n",
       "\t<li>71</li>\n",
       "\t<li>70</li>\n",
       "\t<li>70</li>\n",
       "\t<li>67</li>\n",
       "</ol>\n"
      ],
      "text/latex": [
       "\\begin{enumerate*}\n",
       "\\item 75\n",
       "\\item 68\n",
       "\\item 80\n",
       "\\item 68\n",
       "\\item 70\n",
       "\\item 70\n",
       "\\item 69\n",
       "\\item 72\n",
       "\\item 75\n",
       "\\item 65\n",
       "\\item 70\n",
       "\\item 63\n",
       "\\item 70\n",
       "\\item 26\n",
       "\\item 68\n",
       "\\item 71\n",
       "\\item 71\n",
       "\\item 70\n",
       "\\item 70\n",
       "\\item 67\n",
       "\\end{enumerate*}\n"
      ],
      "text/markdown": [
       "1. 75\n",
       "2. 68\n",
       "3. 80\n",
       "4. 68\n",
       "5. 70\n",
       "6. 70\n",
       "7. 69\n",
       "8. 72\n",
       "9. 75\n",
       "10. 65\n",
       "11. 70\n",
       "12. 63\n",
       "13. 70\n",
       "14. 26\n",
       "15. 68\n",
       "16. 71\n",
       "17. 71\n",
       "18. 70\n",
       "19. 70\n",
       "20. 67\n",
       "\n",
       "\n"
      ],
      "text/plain": [
       " [1] 75 68 80 68 70 70 69 72 75 65 70 63 70 26 68 71 71 70 70 67"
      ]
     },
     "metadata": {},
     "output_type": "display_data"
    },
    {
     "name": "stdout",
     "output_type": "stream",
     "text": [
      "\n",
      "  The decimal point is 1 digit(s) to the right of the |\n",
      "\n",
      "  6 | 3\n",
      "  6 | 578889\n",
      "  7 | 000000112\n",
      "  7 | 559\n",
      "  8 | 0\n",
      "\n"
     ]
    }
   ],
   "source": [
    "#10. a. Return to the temperature data. In what position is the outlier? \n",
    "\n",
    "temp\n",
    "\n",
    "#14\n",
    "\n",
    "#b. Edit the temperature data (using code similar to that in question 9)replacing the outlier with its Fahrenheit value. \n",
    "\n",
    "temp[14] <- 78.8\n",
    "\n",
    "#Print the edited temperature data.\n",
    "\n",
    "#d. Make a stem-and-leaf plot of the edited data. \n",
    "\n",
    "stem(temp)\n",
    "\n",
    "#e. Describe the shape of the data (symmetric, skewed left or right). Write your answer below to the right of #.\n",
    "# Answer:\n",
    "\n",
    "#Skewed Right\n",
    "\n",
    "\n"
   ]
  },
  {
   "cell_type": "markdown",
   "metadata": {},
   "source": [
    "The mean and standard deivation are measures of location (central tendency) and spread (variability). These are appropriate measures when the shape of the data is unimodal (single peak) and roughly symmetric with no extreme outliers. For skewed data or data with outliers, turn to the 5-number summary instead.\n",
    "\n",
    "The 5-number summary consists of the minimum, first quartile (Q1), median, third quartile (Q3), and maximum. The median is a measure of location (or central tendancy). From the 5-number summary you can calculate two measures of spread, the range and interquartile range (IQR) :\n",
    "* range = maximum - minimum\n",
    "* interquartile range = Q3 - Q1\n",
    "\n",
    "The range is highly sensitive to outliers. The IQR measures the spread of the middle 50% of the data and hence is not influenced by outliers. \n"
   ]
  },
  {
   "cell_type": "code",
   "execution_count": 14,
   "metadata": {},
   "outputs": [
    {
     "data": {
      "text/html": [
       "70.54"
      ],
      "text/latex": [
       "70.54"
      ],
      "text/markdown": [
       "70.54"
      ],
      "text/plain": [
       "[1] 70.54"
      ]
     },
     "metadata": {},
     "output_type": "display_data"
    },
    {
     "data": {
      "text/html": [
       "4.12698437118436"
      ],
      "text/latex": [
       "4.12698437118436"
      ],
      "text/markdown": [
       "4.12698437118436"
      ],
      "text/plain": [
       "[1] 4.126984"
      ]
     },
     "metadata": {},
     "output_type": "display_data"
    },
    {
     "data": {
      "text/plain": [
       "   Min. 1st Qu.  Median    Mean 3rd Qu.    Max. \n",
       "  63.00   68.00   70.00   70.54   71.25   80.00 "
      ]
     },
     "metadata": {},
     "output_type": "display_data"
    },
    {
     "data": {
      "text/html": [
       "<ol class=list-inline>\n",
       "\t<li>63</li>\n",
       "\t<li>80</li>\n",
       "</ol>\n"
      ],
      "text/latex": [
       "\\begin{enumerate*}\n",
       "\\item 63\n",
       "\\item 80\n",
       "\\end{enumerate*}\n"
      ],
      "text/markdown": [
       "1. 63\n",
       "2. 80\n",
       "\n",
       "\n"
      ],
      "text/plain": [
       "[1] 63 80"
      ]
     },
     "metadata": {},
     "output_type": "display_data"
    },
    {
     "data": {
      "text/html": [
       "17"
      ],
      "text/latex": [
       "17"
      ],
      "text/markdown": [
       "17"
      ],
      "text/plain": [
       "[1] 17"
      ]
     },
     "metadata": {},
     "output_type": "display_data"
    },
    {
     "data": {
      "text/html": [
       "3.25"
      ],
      "text/latex": [
       "3.25"
      ],
      "text/markdown": [
       "3.25"
      ],
      "text/plain": [
       "[1] 3.25"
      ]
     },
     "metadata": {},
     "output_type": "display_data"
    }
   ],
   "source": [
    "#11. a. Calculate the mean and standard deviation of the (edited) temperature data.\n",
    "\n",
    "mean(temp)\n",
    "\n",
    "sd(temp)\n",
    "\n",
    "#b. Calculate a 5-number summary.\n",
    "\n",
    "summary(temp)\n",
    "\n",
    "#c. Calculate the range and interquartile range. The command to find the IQR directly is IQR( ). \n",
    "#Note: Most commands in R are lowercase, but the command IQR breaks that rule. \n",
    "\n",
    "range(temp)\n",
    "\n",
    "80-63\n",
    "\n",
    "\n",
    "IQR(temp)\n",
    "\n"
   ]
  },
  {
   "cell_type": "code",
   "execution_count": 15,
   "metadata": {},
   "outputs": [
    {
     "data": {
      "image/png": "[encoded data removed]",
      "text/plain": [
       "plot without title"
      ]
     },
     "metadata": {},
     "output_type": "display_data"
    },
    {
     "data": {
      "image/png": "[encoded data removed]",
      "text/plain": [
       "plot without title"
      ]
     },
     "metadata": {},
     "output_type": "display_data"
    }
   ],
   "source": [
    "#12. Make a box-and-whisker plot of the temperature data.\n",
    "#Are there any outliers?\n",
    "\n",
    "boxplot(temp)\n",
    "\n",
    "#If you prefer the layout of the boxplot to be horizontal, add \"horizontal = TRUE\" to the command. \n",
    "#Try adding some color as well. Here's how:\n",
    "\n",
    "\n",
    "boxplot(temp, horizontal = TRUE,col = \"skyblue\")\n",
    "\n",
    "#Which plot do you like better, the vertical or the horizontal? Record your answer to the right of # below.\n",
    "\n",
    "#horizontal\n"
   ]
  },
  {
   "cell_type": "markdown",
   "metadata": {},
   "source": [
    "# Categorical Data"
   ]
  },
  {
   "cell_type": "markdown",
   "metadata": {},
   "source": [
    "Next, we consider the data collected from two questions on the class survey from Fall 2017:\n",
    "1. Identify your gender: Male or Female\n",
    "2. Tell how much you agree with the statement - Watching movies is fun: \n",
    "\n",
    "| Disagree a lot | Disagree a little | Agree a little | Agree a lot |\n",
    "|:------------:|:--------------:|:-----------------:|:--------------:|\n",
    "\n",
    "We will first enter the data coded as numbers and then label the numbers into the question response categories. We will analyze each variable individually (univariate analysis). \n"
   ]
  },
  {
   "cell_type": "code",
   "execution_count": 16,
   "metadata": {},
   "outputs": [
    {
     "data": {
      "text/html": [
       "<ol class=list-inline>\n",
       "\t<li>Male</li>\n",
       "\t<li>Male</li>\n",
       "\t<li>Female</li>\n",
       "\t<li>Female</li>\n",
       "\t<li>Male</li>\n",
       "\t<li>Female</li>\n",
       "\t<li>Female</li>\n",
       "\t<li>Female</li>\n",
       "\t<li>Male</li>\n",
       "\t<li>Male</li>\n",
       "\t<li>Male</li>\n",
       "\t<li>Female</li>\n",
       "\t<li>Male</li>\n",
       "\t<li>Male</li>\n",
       "\t<li>Female</li>\n",
       "\t<li>Female</li>\n",
       "\t<li>Female</li>\n",
       "\t<li>Female</li>\n",
       "\t<li>Female</li>\n",
       "\t<li>Male</li>\n",
       "</ol>\n",
       "\n",
       "<details>\n",
       "\t<summary style=display:list-item;cursor:pointer>\n",
       "\t\t<strong>Levels</strong>:\n",
       "\t</summary>\n",
       "\t<ol class=list-inline>\n",
       "\t\t<li>'Male'</li>\n",
       "\t\t<li>'Female'</li>\n",
       "\t</ol>\n",
       "</details>"
      ],
      "text/latex": [
       "\\begin{enumerate*}\n",
       "\\item Male\n",
       "\\item Male\n",
       "\\item Female\n",
       "\\item Female\n",
       "\\item Male\n",
       "\\item Female\n",
       "\\item Female\n",
       "\\item Female\n",
       "\\item Male\n",
       "\\item Male\n",
       "\\item Male\n",
       "\\item Female\n",
       "\\item Male\n",
       "\\item Male\n",
       "\\item Female\n",
       "\\item Female\n",
       "\\item Female\n",
       "\\item Female\n",
       "\\item Female\n",
       "\\item Male\n",
       "\\end{enumerate*}\n",
       "\n",
       "\\emph{Levels}: \\begin{enumerate*}\n",
       "\\item 'Male'\n",
       "\\item 'Female'\n",
       "\\end{enumerate*}\n"
      ],
      "text/markdown": [
       "1. Male\n",
       "2. Male\n",
       "3. Female\n",
       "4. Female\n",
       "5. Male\n",
       "6. Female\n",
       "7. Female\n",
       "8. Female\n",
       "9. Male\n",
       "10. Male\n",
       "11. Male\n",
       "12. Female\n",
       "13. Male\n",
       "14. Male\n",
       "15. Female\n",
       "16. Female\n",
       "17. Female\n",
       "18. Female\n",
       "19. Female\n",
       "20. Male\n",
       "\n",
       "\n",
       "\n",
       "**Levels**: 1. 'Male'\n",
       "2. 'Female'\n",
       "\n",
       "\n"
      ],
      "text/plain": [
       " [1] Male   Male   Female Female Male   Female Female Female Male   Male  \n",
       "[11] Male   Female Male   Male   Female Female Female Female Female Male  \n",
       "Levels: Male Female"
      ]
     },
     "metadata": {},
     "output_type": "display_data"
    }
   ],
   "source": [
    "#13. Enter the gender data as a vector of 0s and 1s (0 = Male and 1 = Female).\n",
    "#Name this data vector RawGender.\n",
    "\n",
    "RawGender <- c(0,0,1,1,0,1,1,1,0,0,0,1,0,0,1,1,1,1,1,0)\n",
    "\n",
    "#Recode the values in RawGender with the corresponding categories.This will be a factor vector.\n",
    "#A factor denotes a categorical variable, typically with a few finite levels (in this case, 0 = Male and 1 = Female).\n",
    "\n",
    "Gender <- factor(RawGender, levels = c(0,1), labels = c(\"Male\", \"Female\"))\n",
    "\n",
    "#Finally, we'll print the data to make sure there are no errors.\n",
    "\n",
    "Gender"
   ]
  },
  {
   "cell_type": "markdown",
   "metadata": {},
   "source": [
    "Go back to the Code cell above and review the code. When we get to Monitoring the Future data, you will again have to use this code to change the numeric values into the appropriate categories.\n",
    "\n",
    "Next, we want to represent the data graphically. However, before you can make a graphic display of categorical data, you first need to create a table containing the counts for each outcome and give that table a name. To make a graphic display such as a pie chart or bar chart, you input the table name into the commands pie() or barplot().\n"
   ]
  },
  {
   "cell_type": "code",
   "execution_count": 17,
   "metadata": {},
   "outputs": [
    {
     "data": {
      "text/plain": [
       "Gender\n",
       "  Male Female \n",
       "     9     11 "
      ]
     },
     "metadata": {},
     "output_type": "display_data"
    },
    {
     "data": {
      "image/png": "[encoded data removed]",
      "text/plain": [
       "plot without title"
      ]
     },
     "metadata": {},
     "output_type": "display_data"
    },
    {
     "data": {
      "image/png": "[encoded data removed]",
      "text/plain": [
       "plot without title"
      ]
     },
     "metadata": {},
     "output_type": "display_data"
    }
   ],
   "source": [
    "#14. Question 1: Gender\n",
    "#First we create a table containing the counts for Males and Females. \n",
    "#We will name this table Table_Gender and then print the table.\n",
    "\n",
    "Table_Gender <- table(Gender)\n",
    "\n",
    "Table_Gender\n",
    "\n",
    "#Next, we will input Table_Gender into pie() and barplot(). \n",
    "#For barplot, we add a vector of colors to the command to change the default color. \n",
    "\n",
    "pie(Table_Gender)\n",
    "\n",
    "barplot(Table_Gender, col= c(\"skyblue\", \"hotpink\"))\n",
    "\n",
    "\n",
    "        \n"
   ]
  },
  {
   "cell_type": "code",
   "execution_count": 18,
   "metadata": {},
   "outputs": [
    {
     "data": {
      "text/html": [
       "20"
      ],
      "text/latex": [
       "20"
      ],
      "text/markdown": [
       "20"
      ],
      "text/plain": [
       "[1] 20"
      ]
     },
     "metadata": {},
     "output_type": "display_data"
    },
    {
     "data": {
      "text/plain": [
       "Gender\n",
       "  Male Female \n",
       "    45     55 "
      ]
     },
     "metadata": {},
     "output_type": "display_data"
    },
    {
     "data": {
      "image/png": "[encoded data removed]",
      "text/plain": [
       "plot without title"
      ]
     },
     "metadata": {},
     "output_type": "display_data"
    },
    {
     "data": {
      "image/png": "[encoded data removed]",
      "text/plain": [
       "plot without title"
      ]
     },
     "metadata": {},
     "output_type": "display_data"
    }
   ],
   "source": [
    "#15. We can find the total number of Males and Females in Table_Gender as follows:\n",
    "\n",
    "margin.table(Table_Gender)\n",
    "\n",
    "#Next, we convert the Gender table into percentages instead of counts.\n",
    "#We accomplish this by dividing the counts by the marginal total and then multiplying by 100.\n",
    "#We'll name this table Table_Gender_Percent.\n",
    "Table_Gender_Percent <- Table_Gender/margin.table(Table_Gender)*100\n",
    "Table_Gender_Percent\n",
    "\n",
    "#Now make a barplot from this table and check how the scaling is affected compared to question 14. \n",
    "\n",
    "barplot(Table_Gender)\n",
    "\n",
    "#Add to the barplot command axis labels:\n",
    "\n",
    "#ylab = \"Percent\", xlab = \"Gender\". \n",
    "#Feel free to add a command to change the default color. Here are some color choices: \n",
    "#yellow, green, red, plum, tan, steelblue1, seashell, gray, cyan, gold.\n",
    "\n",
    "barplot(Table_Gender, ylab = \"Percent\", xlab = \"Gender\",col = \"royal blue\")\n",
    "\n"
   ]
  },
  {
   "cell_type": "code",
   "execution_count": 19,
   "metadata": {},
   "outputs": [
    {
     "data": {
      "text/html": [
       "<ol class=list-inline>\n",
       "\t<li>Agree a little</li>\n",
       "\t<li>Disagree a little</li>\n",
       "\t<li>Agree a lot</li>\n",
       "\t<li>Agree a lot</li>\n",
       "\t<li>Agree a little</li>\n",
       "\t<li>Agree a little</li>\n",
       "</ol>\n",
       "\n",
       "<details>\n",
       "\t<summary style=display:list-item;cursor:pointer>\n",
       "\t\t<strong>Levels</strong>:\n",
       "\t</summary>\n",
       "\t<ol class=list-inline>\n",
       "\t\t<li>'Disagree a lot'</li>\n",
       "\t\t<li>'Disagree a little'</li>\n",
       "\t\t<li>'Agree a little'</li>\n",
       "\t\t<li>'Agree a lot'</li>\n",
       "\t</ol>\n",
       "</details>"
      ],
      "text/latex": [
       "\\begin{enumerate*}\n",
       "\\item Agree a little\n",
       "\\item Disagree a little\n",
       "\\item Agree a lot\n",
       "\\item Agree a lot\n",
       "\\item Agree a little\n",
       "\\item Agree a little\n",
       "\\end{enumerate*}\n",
       "\n",
       "\\emph{Levels}: \\begin{enumerate*}\n",
       "\\item 'Disagree a lot'\n",
       "\\item 'Disagree a little'\n",
       "\\item 'Agree a little'\n",
       "\\item 'Agree a lot'\n",
       "\\end{enumerate*}\n"
      ],
      "text/markdown": [
       "1. Agree a little\n",
       "2. Disagree a little\n",
       "3. Agree a lot\n",
       "4. Agree a lot\n",
       "5. Agree a little\n",
       "6. Agree a little\n",
       "\n",
       "\n",
       "\n",
       "**Levels**: 1. 'Disagree a lot'\n",
       "2. 'Disagree a little'\n",
       "3. 'Agree a little'\n",
       "4. 'Agree a lot'\n",
       "\n",
       "\n"
      ],
      "text/plain": [
       "[1] Agree a little    Disagree a little Agree a lot       Agree a lot      \n",
       "[5] Agree a little    Agree a little   \n",
       "4 Levels: Disagree a lot < Disagree a little < ... < Agree a lot"
      ]
     },
     "metadata": {},
     "output_type": "display_data"
    },
    {
     "data": {
      "text/html": [
       "<ol class=list-inline>\n",
       "\t<li>Agree a lot</li>\n",
       "\t<li>Agree a little</li>\n",
       "\t<li>Agree a little</li>\n",
       "\t<li>Agree a lot</li>\n",
       "\t<li>Agree a lot</li>\n",
       "\t<li>Disagree a little</li>\n",
       "</ol>\n",
       "\n",
       "<details>\n",
       "\t<summary style=display:list-item;cursor:pointer>\n",
       "\t\t<strong>Levels</strong>:\n",
       "\t</summary>\n",
       "\t<ol class=list-inline>\n",
       "\t\t<li>'Disagree a lot'</li>\n",
       "\t\t<li>'Disagree a little'</li>\n",
       "\t\t<li>'Agree a little'</li>\n",
       "\t\t<li>'Agree a lot'</li>\n",
       "\t</ol>\n",
       "</details>"
      ],
      "text/latex": [
       "\\begin{enumerate*}\n",
       "\\item Agree a lot\n",
       "\\item Agree a little\n",
       "\\item Agree a little\n",
       "\\item Agree a lot\n",
       "\\item Agree a lot\n",
       "\\item Disagree a little\n",
       "\\end{enumerate*}\n",
       "\n",
       "\\emph{Levels}: \\begin{enumerate*}\n",
       "\\item 'Disagree a lot'\n",
       "\\item 'Disagree a little'\n",
       "\\item 'Agree a little'\n",
       "\\item 'Agree a lot'\n",
       "\\end{enumerate*}\n"
      ],
      "text/markdown": [
       "1. Agree a lot\n",
       "2. Agree a little\n",
       "3. Agree a little\n",
       "4. Agree a lot\n",
       "5. Agree a lot\n",
       "6. Disagree a little\n",
       "\n",
       "\n",
       "\n",
       "**Levels**: 1. 'Disagree a lot'\n",
       "2. 'Disagree a little'\n",
       "3. 'Agree a little'\n",
       "4. 'Agree a lot'\n",
       "\n",
       "\n"
      ],
      "text/plain": [
       "[1] Agree a lot       Agree a little    Agree a little    Agree a lot      \n",
       "[5] Agree a lot       Disagree a little\n",
       "4 Levels: Disagree a lot < Disagree a little < ... < Agree a lot"
      ]
     },
     "metadata": {},
     "output_type": "display_data"
    }
   ],
   "source": [
    "#16. Question 2: Watching movies is fun.\n",
    "#Enter the movies data as a vector of 1s, 2s, 3s, and 4s, representing the four possible responses.\n",
    "#Name this vector RawMovies.\n",
    "RawMovies <- c(3,2,4,4,3,3,4,4,3,3,3,4,2,3,4,3,3,4,4,2)\n",
    "#Recode the values in RawMovies with the corresponding responses.\n",
    "#This time we have an ordinal variable. So, we will replace \"factor\" in the previous example with \"ordered\".\n",
    "Movies <- ordered(RawMovies, levels = c(1,2,3,4), \n",
    "                  labels = c(\"Disagree a lot\", \"Disagree a little\", \"Agree a little\", \"Agree a lot\"))\n",
    "#Next, we print out the first six values of Movies to make sure that we haven't made any errors. \n",
    "#We use the head command to do this.\n",
    "\n",
    "head(Movies)\n",
    "\n",
    "#Print the last six values of Movies. Use the command tail().\n",
    "\n",
    "tail(Movies)\n"
   ]
  },
  {
   "cell_type": "code",
   "execution_count": 20,
   "metadata": {},
   "outputs": [
    {
     "data": {
      "text/plain": [
       "Movies\n",
       "   Disagree a lot Disagree a little    Agree a little       Agree a lot \n",
       "                0                 3                 9                 8 "
      ]
     },
     "metadata": {},
     "output_type": "display_data"
    },
    {
     "data": {
      "image/png": "[encoded data removed]",
      "text/plain": [
       "plot without title"
      ]
     },
     "metadata": {},
     "output_type": "display_data"
    },
    {
     "data": {
      "image/png": "[encoded data removed]",
      "text/plain": [
       "plot without title"
      ]
     },
     "metadata": {},
     "output_type": "display_data"
    }
   ],
   "source": [
    "#17. a. Make and print a table of the Movies data. Name your table Table_Movies.\n",
    "tmovies <- table(Movies)\n",
    "tmovies\n",
    "\n",
    "#b. Make a bar chart of the Movies data.\n",
    "\n",
    "barplot(tmovies)\n",
    "\n",
    "#c. Make a bar chart of the Movies data with a vertical axis of percents.\n",
    "\n",
    "\n",
    "barplot(tmovies, ylab = \"percents\")\n"
   ]
  },
  {
   "cell_type": "markdown",
   "metadata": {},
   "source": [
    "### Bivariate Categorical Data\n",
    "\n",
    "Next, we consider both variables, Gender and Movies, simulaneously. In particular, we'd like to know how the responses to \"Watching movies is fun\" differ for males and females. We can examine the relationship between these two variables with a two-way table. We'll use Gender for the row variable and Movies for the column variable.  \n"
   ]
  },
  {
   "cell_type": "code",
   "execution_count": 21,
   "metadata": {},
   "outputs": [
    {
     "data": {
      "text/plain": [
       "        Movies\n",
       "Gender   Disagree a lot Disagree a little Agree a little Agree a lot\n",
       "  Male                0                 3              6           0\n",
       "  Female              0                 0              3           8"
      ]
     },
     "metadata": {},
     "output_type": "display_data"
    }
   ],
   "source": [
    "#17. First, we make a two-way table of the counts. \n",
    "Table_Gender_Movies <- table(Gender, Movies)\n",
    "Table_Gender_Movies"
   ]
  },
  {
   "cell_type": "code",
   "execution_count": 22,
   "metadata": {},
   "outputs": [
    {
     "data": {
      "text/plain": [
       "Gender\n",
       "  Male Female \n",
       "     9     11 "
      ]
     },
     "metadata": {},
     "output_type": "display_data"
    }
   ],
   "source": [
    "#18. Next, we get the marginal totals for Males and Females.\n",
    "Table_Gender_Margin <- margin.table(Table_Gender_Movies,1)\n",
    "Table_Gender_Margin\n",
    "\n",
    "#Compare the results to the table you created in 13.\n",
    "#This one tells me the #'s of people in each sex group & what they think"
   ]
  },
  {
   "cell_type": "code",
   "execution_count": 23,
   "metadata": {},
   "outputs": [
    {
     "data": {
      "text/plain": [
       "        Movies\n",
       "Gender   Disagree a lot Disagree a little Agree a little Agree a lot\n",
       "  Male          0.00000          33.33333       66.66667     0.00000\n",
       "  Female        0.00000           0.00000       27.27273    72.72727"
      ]
     },
     "metadata": {},
     "output_type": "display_data"
    }
   ],
   "source": [
    "#19. Finally, we calculate the row percentages.\n",
    "#To do this we dividing row 1 by the number of males and row 2 by the number of females and then multiply by 100.\n",
    "Row_Percents <- prop.table(Table_Gender_Movies,1)*100\n",
    "Row_Percents\n",
    "#Based on this table, write a sentence about the differences in how males and females responded to \"Watching movies is fun.\"\n",
    "#\n",
    "#It looks like females find it funner to watch movies more than males. 33% of the males survyed said they disagree a little that movies are fun compared to 0% of females surveyed. 0% of males 'agreed a lot' with movies being fun & 72.72% of females agreed a lot."
   ]
  },
  {
   "cell_type": "code",
   "execution_count": 24,
   "metadata": {},
   "outputs": [
    {
     "data": {
      "image/png": "[encoded data removed]",
      "text/plain": [
       "plot without title"
      ]
     },
     "metadata": {},
     "output_type": "display_data"
    }
   ],
   "source": [
    "#20. Make a barplot of the two-way table of row percentages from question 19.\n",
    "barplot(Row_Percents, ylab = \"Percent\", xlab = \"Gender\", \n",
    "        legend = rownames(Table_Gender_Movies), col = c(\"blue\", \"red\"), beside = TRUE)\n",
    "#Look above to your table and your graphic display. Do these appear to be telling you the same story? Explain below.\n",
    "\n",
    "#Yes they tell me the same story just visualize for me.\n",
    "#Both the table & plot show me the same data. Females find watching movies funner than males according to this data.\n",
    "\n"
   ]
  },
  {
   "cell_type": "markdown",
   "metadata": {},
   "source": [
    "We conclude this Notebook with a few exercises from your textbook.\n",
    "\n",
    "Exercise 1.68, page 48: Smolts are young salmon at a stage when their skin becomes covered with silvery scales and they start to migrate from freshwater to the sea. The reflectance of a light shined on a smolt's skin is a measure of the smolt's readiness for migration. The data saved under the name Salmon in the Code cell below are the reflecctances, in percents, for a sample of 50 smolts."
   ]
  },
  {
   "cell_type": "code",
   "execution_count": 25,
   "metadata": {},
   "outputs": [
    {
     "data": {
      "text/html": [
       "<ol class=list-inline>\n",
       "\t<li>57.6</li>\n",
       "\t<li>54.8</li>\n",
       "\t<li>63.4</li>\n",
       "\t<li>57</li>\n",
       "\t<li>54.7</li>\n",
       "\t<li>42.3</li>\n",
       "\t<li>63.6</li>\n",
       "\t<li>55.5</li>\n",
       "\t<li>33.5</li>\n",
       "\t<li>63.3</li>\n",
       "\t<li>58.3</li>\n",
       "\t<li>42.1</li>\n",
       "\t<li>56.1</li>\n",
       "\t<li>47.8</li>\n",
       "\t<li>56.1</li>\n",
       "\t<li>55.9</li>\n",
       "\t<li>38.8</li>\n",
       "\t<li>49.7</li>\n",
       "\t<li>42.3</li>\n",
       "\t<li>45.6</li>\n",
       "\t<li>69</li>\n",
       "\t<li>50.4</li>\n",
       "\t<li>53</li>\n",
       "\t<li>38.3</li>\n",
       "\t<li>60.4</li>\n",
       "\t<li>49.3</li>\n",
       "\t<li>42.8</li>\n",
       "\t<li>44.5</li>\n",
       "\t<li>46.4</li>\n",
       "\t<li>44.3</li>\n",
       "\t<li>58.9</li>\n",
       "\t<li>42.1</li>\n",
       "\t<li>47.6</li>\n",
       "\t<li>47.9</li>\n",
       "\t<li>69.2</li>\n",
       "\t<li>46.6</li>\n",
       "\t<li>68.1</li>\n",
       "\t<li>42.8</li>\n",
       "\t<li>45.6</li>\n",
       "\t<li>47.3</li>\n",
       "\t<li>59.6</li>\n",
       "\t<li>37.8</li>\n",
       "\t<li>53.9</li>\n",
       "\t<li>43.2</li>\n",
       "\t<li>51.4</li>\n",
       "\t<li>64.5</li>\n",
       "\t<li>43.8</li>\n",
       "\t<li>42.7</li>\n",
       "\t<li>50.9</li>\n",
       "\t<li>43.8</li>\n",
       "</ol>\n"
      ],
      "text/latex": [
       "\\begin{enumerate*}\n",
       "\\item 57.6\n",
       "\\item 54.8\n",
       "\\item 63.4\n",
       "\\item 57\n",
       "\\item 54.7\n",
       "\\item 42.3\n",
       "\\item 63.6\n",
       "\\item 55.5\n",
       "\\item 33.5\n",
       "\\item 63.3\n",
       "\\item 58.3\n",
       "\\item 42.1\n",
       "\\item 56.1\n",
       "\\item 47.8\n",
       "\\item 56.1\n",
       "\\item 55.9\n",
       "\\item 38.8\n",
       "\\item 49.7\n",
       "\\item 42.3\n",
       "\\item 45.6\n",
       "\\item 69\n",
       "\\item 50.4\n",
       "\\item 53\n",
       "\\item 38.3\n",
       "\\item 60.4\n",
       "\\item 49.3\n",
       "\\item 42.8\n",
       "\\item 44.5\n",
       "\\item 46.4\n",
       "\\item 44.3\n",
       "\\item 58.9\n",
       "\\item 42.1\n",
       "\\item 47.6\n",
       "\\item 47.9\n",
       "\\item 69.2\n",
       "\\item 46.6\n",
       "\\item 68.1\n",
       "\\item 42.8\n",
       "\\item 45.6\n",
       "\\item 47.3\n",
       "\\item 59.6\n",
       "\\item 37.8\n",
       "\\item 53.9\n",
       "\\item 43.2\n",
       "\\item 51.4\n",
       "\\item 64.5\n",
       "\\item 43.8\n",
       "\\item 42.7\n",
       "\\item 50.9\n",
       "\\item 43.8\n",
       "\\end{enumerate*}\n"
      ],
      "text/markdown": [
       "1. 57.6\n",
       "2. 54.8\n",
       "3. 63.4\n",
       "4. 57\n",
       "5. 54.7\n",
       "6. 42.3\n",
       "7. 63.6\n",
       "8. 55.5\n",
       "9. 33.5\n",
       "10. 63.3\n",
       "11. 58.3\n",
       "12. 42.1\n",
       "13. 56.1\n",
       "14. 47.8\n",
       "15. 56.1\n",
       "16. 55.9\n",
       "17. 38.8\n",
       "18. 49.7\n",
       "19. 42.3\n",
       "20. 45.6\n",
       "21. 69\n",
       "22. 50.4\n",
       "23. 53\n",
       "24. 38.3\n",
       "25. 60.4\n",
       "26. 49.3\n",
       "27. 42.8\n",
       "28. 44.5\n",
       "29. 46.4\n",
       "30. 44.3\n",
       "31. 58.9\n",
       "32. 42.1\n",
       "33. 47.6\n",
       "34. 47.9\n",
       "35. 69.2\n",
       "36. 46.6\n",
       "37. 68.1\n",
       "38. 42.8\n",
       "39. 45.6\n",
       "40. 47.3\n",
       "41. 59.6\n",
       "42. 37.8\n",
       "43. 53.9\n",
       "44. 43.2\n",
       "45. 51.4\n",
       "46. 64.5\n",
       "47. 43.8\n",
       "48. 42.7\n",
       "49. 50.9\n",
       "50. 43.8\n",
       "\n",
       "\n"
      ],
      "text/plain": [
       " [1] 57.6 54.8 63.4 57.0 54.7 42.3 63.6 55.5 33.5 63.3 58.3 42.1 56.1 47.8 56.1\n",
       "[16] 55.9 38.8 49.7 42.3 45.6 69.0 50.4 53.0 38.3 60.4 49.3 42.8 44.5 46.4 44.3\n",
       "[31] 58.9 42.1 47.6 47.9 69.2 46.6 68.1 42.8 45.6 47.3 59.6 37.8 53.9 43.2 51.4\n",
       "[46] 64.5 43.8 42.7 50.9 43.8"
      ]
     },
     "metadata": {},
     "output_type": "display_data"
    },
    {
     "data": {
      "text/html": [
       "50.89"
      ],
      "text/latex": [
       "50.89"
      ],
      "text/markdown": [
       "50.89"
      ],
      "text/plain": [
       "[1] 50.89"
      ]
     },
     "metadata": {},
     "output_type": "display_data"
    },
    {
     "data": {
      "text/html": [
       "49.5"
      ],
      "text/latex": [
       "49.5"
      ],
      "text/markdown": [
       "49.5"
      ],
      "text/plain": [
       "[1] 49.5"
      ]
     },
     "metadata": {},
     "output_type": "display_data"
    },
    {
     "data": {
      "image/png": "[encoded data removed]",
      "text/plain": [
       "plot without title"
      ]
     },
     "metadata": {},
     "output_type": "display_data"
    }
   ],
   "source": [
    "#1.68 \n",
    "Salmon <- c(57.6,54.8,63.4,57.0,54.7,42.3,63.6,55.5,33.5,63.3,58.3,42.1,56.1,47.8,56.1,55.9,38.8,49.7,42.3,45.6,69.0,50.4,53.0,38.3,60.4,49.3,42.8,44.5,46.4,44.3,58.9,42.1,47.6,47.9,69.2,46.6,68.1,42.8,45.6,47.3,59.6,37.8,53.9,43.2,51.4,64.5,43.8,42.7,50.9,43.8)\n",
    "Salmon\n",
    "#a. Find the mean reflectance for these smolts\n",
    "\n",
    "mean(Salmon)\n",
    "\n",
    "#b. Find the median reflectance for these smolts\n",
    "\n",
    "median(Salmon)\n",
    "\n",
    "#c. Do you prefer the mean or the median as a measure of the center for these data? Give the reasons for you preference\n",
    "\n",
    "# The Median because it gives me a better representation of the data without it being skewed\n",
    "\n",
    "\n",
    "#Note: You might want to make a graphic display to help you answer part (c).If so, include the command in this Code cell. \n",
    "\n",
    "boxplot(Salmon, horizontal = TRUE)"
   ]
  },
  {
   "cell_type": "code",
   "execution_count": 26,
   "metadata": {},
   "outputs": [
    {
     "data": {
      "text/html": [
       "8.79703683878027"
      ],
      "text/latex": [
       "8.79703683878027"
      ],
      "text/markdown": [
       "8.79703683878027"
      ],
      "text/plain": [
       "[1] 8.797037"
      ]
     },
     "metadata": {},
     "output_type": "display_data"
    },
    {
     "data": {
      "text/plain": [
       "   Min. 1st Qu.  Median    Mean 3rd Qu.    Max. \n",
       "  33.50   43.80   49.50   50.89   56.77   69.20 "
      ]
     },
     "metadata": {},
     "output_type": "display_data"
    }
   ],
   "source": [
    "#1.69 Measures of spread for the smolts\n",
    "#a. Find the standard deviation of the reflectance for those smolts\n",
    "\n",
    "sd(Salmon)\n",
    "\n",
    "#b. Find the quartiles of the reflections for these smolts\n",
    "\n",
    "summary(Salmon)\n",
    "\n",
    "#c. Do you prefer the standard deviation or the quartiles as a measure of spread for these data? \n",
    "#Give the reason for your preference.\n",
    "\n",
    "# The Summary because it gives me a better understanding of the data because i see more numbers"
   ]
  },
  {
   "cell_type": "code",
   "execution_count": 28,
   "metadata": {},
   "outputs": [
    {
     "data": {
      "text/html": [
       "12.975"
      ],
      "text/latex": [
       "12.975"
      ],
      "text/markdown": [
       "12.975"
      ],
      "text/plain": [
       "[1] 12.975"
      ]
     },
     "metadata": {},
     "output_type": "display_data"
    },
    {
     "data": {
      "text/html": [
       "19.4625"
      ],
      "text/latex": [
       "19.4625"
      ],
      "text/markdown": [
       "19.4625"
      ],
      "text/plain": [
       "[1] 19.4625"
      ]
     },
     "metadata": {},
     "output_type": "display_data"
    },
    {
     "name": "stdout",
     "output_type": "stream",
     "text": [
      "\n",
      "  The decimal point is 1 digit(s) to the right of the |\n",
      "\n",
      "  3 | 4\n",
      "  3 | 889\n",
      "  4 | 22223333444\n",
      "  4 | 5666778889\n",
      "  5 | 001134\n",
      "  5 | 5566667889\n",
      "  6 | 00334\n",
      "  6 | 5899\n",
      "\n"
     ]
    },
    {
     "data": {
      "image/png": "[encoded data removed]",
      "text/plain": [
       "plot without title"
      ]
     },
     "metadata": {},
     "output_type": "display_data"
    }
   ],
   "source": [
    "#1.70 Are there outliers in the smolts data?\n",
    "\n",
    "#a. Find the IQR for the smolt data.\n",
    "\n",
    "IQR(Salmon)\n",
    "\n",
    "#b. Use the 1.5*IQR rule to identify any outliers.\n",
    "\n",
    "12.975*1.5\n",
    "\n",
    "#c. Make a boxplot for these data and describe the distribution using only the information in the boxplot. \n",
    "\n",
    "boxplot(Salmon, horizontal = TRUE)\n",
    "\n",
    "#e. Make a stemplot for these data\n",
    "\n",
    "stem(Salmon)\n",
    "\n",
    "#f. Compare the boxplot and the stemplot. Evaluate the the advantages and disadvantages of each graphical summary \n",
    "#for describing the distribution of the smolt reflectance data. \n",
    "#The advantages of a boxplot in my opinion is that the user gets the a summary -like the summary command-\n",
    "#because we get to see the ranges, median, Q1 & Q3... we get a clearer picture in my opinion. Compared\n",
    "#to the stemplot, we have a better understanding of where the data is skewed more but not a good understanding\n",
    "#of anything other than the range. \n",
    "\n",
    "\n"
   ]
  },
  {
   "cell_type": "code",
   "execution_count": null,
   "metadata": {},
   "outputs": [],
   "source": []
  }
 ],
 "metadata": {
  "kernelspec": {
   "display_name": "R",
   "language": "R",
   "name": "ir"
  },
  "language_info": {
   "codemirror_mode": "r",
   "file_extension": ".r",
   "mimetype": "text/x-r-source",
   "name": "R",
   "pygments_lexer": "r",
   "version": "3.6.1"
  }
 },
 "nbformat": 4,
 "nbformat_minor": 2
}
